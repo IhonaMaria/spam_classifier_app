{
 "cells": [
  {
   "cell_type": "markdown",
   "id": "c9b5c8ee",
   "metadata": {},
   "source": [
    "# SPAM CLASSIFIER"
   ]
  },
  {
   "cell_type": "markdown",
   "id": "38826d00",
   "metadata": {},
   "source": [
    "## 1. Data access"
   ]
  },
  {
   "cell_type": "code",
   "execution_count": 1,
   "id": "ac1b2482",
   "metadata": {},
   "outputs": [],
   "source": [
    "import os\n",
    "\n",
    "DATASETS_DIR = 'datasets'\n",
    "MODELS_DIR = 'models'\n",
    "TAR_DIR = os.path.join(DATASETS_DIR, 'tar')\n",
    "\n",
    "SPAM_URL = 'https://spamassassin.apache.org/old/publiccorpus/20050311_spam_2.tar.bz2'\n",
    "EASY_HAM_URL = 'https://spamassassin.apache.org/old/publiccorpus/20030228_easy_ham_2.tar.bz2'\n",
    "HARD_HAM_URL = 'https://spamassassin.apache.org/old/publiccorpus/20030228_hard_ham.tar.bz2'\n"
   ]
  },
  {
   "cell_type": "code",
   "execution_count": 2,
   "id": "fb7405cb",
   "metadata": {},
   "outputs": [],
   "source": [
    "# Download and extract the contents of a tar archive from the URL\n",
    "\n",
    "from urllib.request import urlretrieve\n",
    "import tarfile\n",
    "import shutil\n",
    "\n",
    "def download_dataset(url):\n",
    "    \"\"\"download and unzip data from a url into the specified path\"\"\"\n",
    "    \n",
    "    # create directory if it doesn't exist\n",
    "    if not os.path.isdir(TAR_DIR):\n",
    "        os.makedirs(TAR_DIR)\n",
    "    \n",
    "    filename = url.rsplit('/', 1)[-1]\n",
    "    tarpath = os.path.join(TAR_DIR, filename)\n",
    "    \n",
    "    # download the tar file if it doesn't exist\n",
    "    try:\n",
    "        tarfile.open(tarpath)\n",
    "    except:\n",
    "        urlretrieve(url, tarpath)\n",
    "    \n",
    "    with tarfile.open(tarpath) as tar:\n",
    "        dirname = os.path.join(DATASETS_DIR, tar.getnames()[0])\n",
    "        if os.path.isdir(dirname):\n",
    "            shutil.rmtree(dirname)\n",
    "        tar.extractall(path=DATASETS_DIR)\n",
    "        \n",
    "        cmds_path = os.path.join(dirname, 'cmds')\n",
    "        if os.path.isfile(cmds_path):\n",
    "            os.remove(cmds_path)\n",
    "    \n",
    "    return dirname\n"
   ]
  },
  {
   "cell_type": "code",
   "execution_count": 3,
   "id": "4acf622a",
   "metadata": {},
   "outputs": [],
   "source": [
    "# download the data\n",
    "spam_dir = download_dataset(SPAM_URL)\n",
    "easy_ham_dir = download_dataset(EASY_HAM_URL)\n",
    "hard_ham_dir = download_dataset(HARD_HAM_URL)"
   ]
  },
  {
   "cell_type": "code",
   "execution_count": 4,
   "id": "b495cfd6",
   "metadata": {},
   "outputs": [],
   "source": [
    "import numpy as np\n",
    "import glob\n",
    "\n",
    "def load_dataset(dirpath):\n",
    "    \"\"\"load emails from the specified directory\"\"\"\n",
    "    \n",
    "    files = []\n",
    "    filepaths = glob.glob(dirpath + '/*')\n",
    "    for path in filepaths:\n",
    "        with open(path, 'rb') as f:\n",
    "            byte_content = f.read()\n",
    "            str_content = byte_content.decode('utf-8', errors='ignore')\n",
    "            files.append(str_content)\n",
    "    return files\n",
    "    "
   ]
  },
  {
   "cell_type": "code",
   "execution_count": 5,
   "id": "7f120023",
   "metadata": {},
   "outputs": [],
   "source": [
    "# load the datasets\n",
    "spam = load_dataset(spam_dir)\n",
    "easy_ham = load_dataset(easy_ham_dir)\n",
    "hard_ham = load_dataset(hard_ham_dir)"
   ]
  },
  {
   "cell_type": "code",
   "execution_count": 6,
   "id": "ef3de40e",
   "metadata": {},
   "outputs": [],
   "source": [
    "import sklearn.utils\n",
    "\n",
    "# create the full dataset\n",
    "X = spam + easy_ham + hard_ham\n",
    "y = np.concatenate((np.ones(len(spam)), np.zeros(len(easy_ham) + len(hard_ham))))  # 1 for spam, 0 for non-spam\n",
    "\n",
    "# shuffle the dataset\n",
    "X, y = sklearn.utils.shuffle(X, y, random_state=42)"
   ]
  },
  {
   "cell_type": "code",
   "execution_count": 7,
   "id": "20cecb0a",
   "metadata": {},
   "outputs": [],
   "source": [
    "from sklearn.model_selection import train_test_split\n",
    "\n",
    "# split the data into stratified training and test sets\n",
    "X_train, X_test, y_train, y_test = train_test_split(X, y, test_size=0.2, stratify=y,\n",
    "                                                    random_state=42)\n",
    "\n"
   ]
  },
  {
   "cell_type": "code",
   "execution_count": 8,
   "id": "0179ea39",
   "metadata": {},
   "outputs": [
    {
     "name": "stdout",
     "output_type": "stream",
     "text": [
      "2436 2436\n",
      "610 610\n"
     ]
    }
   ],
   "source": [
    "print(len(X_train), len(y_train))\n",
    "print(len(X_test), len(y_test))"
   ]
  },
  {
   "cell_type": "markdown",
   "id": "0bac5f63",
   "metadata": {},
   "source": [
    "## 2. Data preparation"
   ]
  },
  {
   "cell_type": "markdown",
   "id": "53f5d390",
   "metadata": {},
   "source": [
    "- Remove Headers: You might want to remove or selectively process email headers, as they can contain a lot of technical data that may not be useful for your analysis.\n",
    "- Handle HTML Content: If the email body contains HTML, strip out the HTML tags to leave just the text.\n",
    "- Lowercasing: Convert all text to lowercase to ensure uniformity, as case usually doesn't affect spamminess.\n",
    "- Remove Special Characters and Numbers: You might want to remove numbers and special characters, depending on your focus. For spam detection, some characters or number patterns could be relevant, so this step should be considered carefully.\n",
    "- Tokenization: Break the text into individual words or tokens"
   ]
  },
  {
   "cell_type": "markdown",
   "id": "da655e45",
   "metadata": {},
   "source": [
    "#### Removing the headers\n",
    "\n",
    "Email headers are usually followed by a double newline (\\n\\n), separating them from the body. We can split the text at the first occurrence of \\n\\n and take the part after it as the email body."
   ]
  },
  {
   "cell_type": "code",
   "execution_count": 9,
   "id": "fc17a746",
   "metadata": {},
   "outputs": [
    {
     "name": "stdout",
     "output_type": "stream",
     "text": [
      "This is the email body.\n"
     ]
    }
   ],
   "source": [
    "def remove_email_headers(email_text):\n",
    "    \"\"\"\n",
    "    Removes headers from an email.\n",
    "    Assumes headers and body are separated by a \\n\\n\n",
    "    \"\"\"\n",
    "    parts = email_text.split('\\n\\n', 1)  # one split only\n",
    "    if len(parts) > 1:   #Everything after the \\n\\n is the body\n",
    "        return parts[1]\n",
    "    else:\n",
    "        return email_text  # Return original if no headers found\n",
    "\n",
    "\n",
    "# Example usage\n",
    "email_with_headers = \"From: sender@example.com\\nSubject: Test Email\\n\\nThis is the email body.\"\n",
    "email_body = remove_email_headers(email_with_headers)\n",
    "print(email_body)\n"
   ]
  },
  {
   "cell_type": "markdown",
   "id": "4a9c53ab",
   "metadata": {},
   "source": [
    "#### Handle HTML content\n",
    "\n",
    "Email headers are usually followed by a double newline (\\n\\n), separating them from the body. We can split the text at the first occurrence of \\n\\n and take the part after it as the email body."
   ]
  },
  {
   "cell_type": "code",
   "execution_count": 10,
   "id": "6feefc1e",
   "metadata": {},
   "outputs": [
    {
     "name": "stdout",
     "output_type": "stream",
     "text": [
      "This is a test email.\n"
     ]
    }
   ],
   "source": [
    "from html.parser import HTMLParser\n",
    "\n",
    "class MLStripper(HTMLParser):\n",
    "    def __init__(self):\n",
    "        self.reset()\n",
    "        self.strict = False\n",
    "        self.convert_charrefs = True\n",
    "        self.fed = []\n",
    "\n",
    "    def handle_data(self, d):\n",
    "        self.fed.append(d)\n",
    "\n",
    "    def get_data(self):\n",
    "        return ''.join(self.fed)\n",
    "    \n",
    "    \n",
    "def strip_tags(html):   # This function removes the HTML tags\n",
    "    s = MLStripper()\n",
    "    s.feed(html)\n",
    "    return s.get_data()\n",
    "\n",
    "\n",
    "# Example usage\n",
    "html_content = \"<html><body><p>This is a <b>test</b> email.</p></body></html>\"\n",
    "text_only = strip_tags(html_content)\n",
    "print(text_only)"
   ]
  },
  {
   "cell_type": "markdown",
   "id": "e028180d",
   "metadata": {},
   "source": [
    "#### Text homogenization\n",
    "\n",
    "- First, we'll create a function to convert the URL directions into just 'URL'.\n",
    "- Then, all the numbers we'll be transformed into 'NUM'. This can be useful to normalize or reduce the variability of the text.\n",
    "- The last function removes all the punctuation signs and returns everything in lowecase to ensure uniformity.\n"
   ]
  },
  {
   "cell_type": "code",
   "execution_count": 11,
   "id": "31491350",
   "metadata": {},
   "outputs": [],
   "source": [
    "import re \n",
    "\n",
    "def is_url(s):\n",
    "    url = re.match(\"http[s]?://(?:[a-zA-Z]|[0-9]|[$-_@.&+]|\"\n",
    "                     \"[!*\\(\\), ]|(?:%[0-9a-fA-F][0-9a-fA-F]))+\", s)\n",
    "    return url is not None\n",
    "\n",
    "def convert_url_to_word(words):\n",
    "    \"\"\"convert all urls in the list to the word 'URL'\"\"\"\n",
    "    for i, word in enumerate(words):\n",
    "        if is_url(word):\n",
    "            words[i] = 'URL'\n",
    "    return words"
   ]
  },
  {
   "cell_type": "code",
   "execution_count": 12,
   "id": "b58d37ae",
   "metadata": {},
   "outputs": [],
   "source": [
    "def convert_num_to_word(words):\n",
    "    \"\"\"convert all numbers in the list to the word 'NUM'\"\"\"\n",
    "    for i, word in enumerate(words):\n",
    "        if word.isdigit():\n",
    "            words[i] = 'NUM'\n",
    "    return words"
   ]
  },
  {
   "cell_type": "code",
   "execution_count": 13,
   "id": "62e10cbb",
   "metadata": {},
   "outputs": [
    {
     "name": "stderr",
     "output_type": "stream",
     "text": [
      "[nltk_data] Downloading package punkt to\n",
      "[nltk_data]     C:\\Users\\Ihona\\AppData\\Roaming\\nltk_data...\n",
      "[nltk_data]   Package punkt is already up-to-date!\n",
      "[nltk_data] Downloading package stopwords to\n",
      "[nltk_data]     C:\\Users\\Ihona\\AppData\\Roaming\\nltk_data...\n",
      "[nltk_data]   Package stopwords is already up-to-date!\n"
     ]
    },
    {
     "data": {
      "text/plain": [
       "True"
      ]
     },
     "execution_count": 13,
     "metadata": {},
     "output_type": "execute_result"
    }
   ],
   "source": [
    "import nltk\n",
    "nltk.download('punkt')\n",
    "nltk.download('stopwords')\n"
   ]
  },
  {
   "cell_type": "markdown",
   "id": "9c38af48",
   "metadata": {},
   "source": [
    "#### Using NLTK library\n",
    "\n",
    "NLTK is a library that enables us to preprocess text data for further analysis. Tokenization is the process of breaking down text into smaller units, typically words or phrases. In this function, tokenization is achieved by first removing punctuation and replacing tabs and newlines with spaces, and then splitting the text into individual words (or \"tokens\") based on spaces.\n",
    "The function below performs several steps:\n",
    "\n",
    "    1. Remove Punctuation: Removes all punctuation from the text to focus only on words\n",
    "    2. Replace Tabs and New Lines: Converts tabs (\\t) and new lines (\\n) to spaces for consistent whitespace handling.\n",
    "    3. Split into Words and Remove Stopwords: Splits the text into words and filters out any empty tokens and words that are in the list of stopwords.\n",
    "    4. Apply Stemming: Each word is then stemmed using the Porter Stemmer. Stemming is the process of reducing words to their base or root form. For example, \"running\", \"runs\", and \"ran\" are all reduced to the stem \"run\". \n",
    "    5. Return Processed Tokens: The function returns a list of these processed and stemmed tokens."
   ]
  },
  {
   "cell_type": "code",
   "execution_count": 14,
   "id": "3906f66a",
   "metadata": {},
   "outputs": [
    {
     "name": "stdout",
     "output_type": "stream",
     "text": [
      "['hello', 'world', 'thi', 'exampl', 'email', 'punctuat', 'stopword']\n"
     ]
    }
   ],
   "source": [
    "import nltk\n",
    "from nltk.stem import PorterStemmer\n",
    "from nltk.corpus import stopwords\n",
    "import string\n",
    "\n",
    "def tokenize_email(text):\n",
    "    \"\"\"\n",
    "    Tokenize a text string. This involves removing punctuation, \n",
    "    replacing tabs and newlines with spaces, splitting into words, \n",
    "    and then applying stemming. It also filters out stopwords.\n",
    "\n",
    "    :param text: The string to be tokenized.\n",
    "    :return: A list of stemmed tokens.\n",
    "    \"\"\"\n",
    "    # Initialize stemmer and stopwords\n",
    "    stemmer = PorterStemmer()\n",
    "    stop_words = set(stopwords.words('english'))\n",
    "\n",
    "    # Remove punctuation\n",
    "    text = text.translate(str.maketrans('', '', string.punctuation))\n",
    "\n",
    "    # Replace tabs and new lines with spaces\n",
    "    text = text.replace(\"\\t\", \" \").replace(\"\\n\", \" \")\n",
    "\n",
    "    # Split into words and filter out empty tokens and stopwords\n",
    "    tokens = [word for word in text.split(\" \") if word and word not in stop_words]\n",
    "\n",
    "    # Apply stemming\n",
    "    stemmed_tokens = [stemmer.stem(word) for word in tokens]\n",
    "\n",
    "    return stemmed_tokens\n",
    "\n",
    "# Example usage\n",
    "sample_email = \"Hello, world! This is an example email, with punctuations and stopwords.\"\n",
    "tokenized_email = tokenize_email(sample_email)\n",
    "\n",
    "print(tokenized_email)\n"
   ]
  },
  {
   "cell_type": "markdown",
   "id": "819082e1",
   "metadata": {},
   "source": [
    "#### CUSTOM TRANSFORMER AND PIPELINE\n",
    "\n",
    "Let's create a custom transformer and pipeline to apply all the processing steps in order."
   ]
  },
  {
   "cell_type": "code",
   "execution_count": 15,
   "id": "8858c980",
   "metadata": {},
   "outputs": [],
   "source": [
    "from sklearn.base import BaseEstimator, TransformerMixin\n",
    "\n",
    "class ProcessEmail(BaseEstimator, TransformerMixin):\n",
    "    def __init__(self, header=True, strip=True, url_to_word=True, num_to_word=True,\n",
    "                 remove_punc=True, tokenize_email=True,):\n",
    "        self.header = header\n",
    "        self.strip = strip\n",
    "        self.url_to_word = url_to_word\n",
    "        self.num_to_word = num_to_word\n",
    "        self.remove_punc = remove_punc\n",
    "        self.tokenize_email=tokenize_email\n",
    "    \n",
    "    def fit(self, X, y=None):\n",
    "        return self\n",
    "    \n",
    "    def transform(self, X, y=None):\n",
    "        X_cleaned = []\n",
    "        for email in X:\n",
    "            if self.header:\n",
    "                email = remove_email_headers(email)\n",
    "                \n",
    "            if self.strip:\n",
    "                email_stripped=strip_tags(email)\n",
    "            \n",
    "            if self.tokenize_email:\n",
    "                email_tokenized = tokenize_email(email_stripped)\n",
    "                \n",
    "            if self.url_to_word:\n",
    "                email_words = convert_url_to_word(email_tokenized)   \n",
    "                \n",
    "            if self.num_to_word:\n",
    "                email_words = convert_num_to_word(email_words)\n",
    "            email = ' '.join(email_words)\n",
    "            \n",
    "            if self.remove_punc:\n",
    "                email = email.lower()\n",
    "\n",
    "\n",
    "\n",
    "            X_cleaned.append(email)\n",
    "            \n",
    "        return X_cleaned"
   ]
  },
  {
   "cell_type": "code",
   "execution_count": 16,
   "id": "74d3feff",
   "metadata": {},
   "outputs": [],
   "source": [
    "from sklearn.pipeline import Pipeline\n",
    "from sklearn.feature_extraction.text import CountVectorizer\n",
    "\n",
    "# full preparation pipeline\n",
    "prepare_pipeline = Pipeline([\n",
    "    ('clean_email', ProcessEmail()),\n",
    "    ('bag_of_words', CountVectorizer())\n",
    "])\n",
    "\n",
    "# CountVectorizer converts a collection of tokenized text documents into a matrix of token counts."
   ]
  },
  {
   "cell_type": "code",
   "execution_count": 17,
   "id": "0f141616",
   "metadata": {},
   "outputs": [
    {
     "data": {
      "text/html": [
       "<style>#sk-container-id-1 {color: black;}#sk-container-id-1 pre{padding: 0;}#sk-container-id-1 div.sk-toggleable {background-color: white;}#sk-container-id-1 label.sk-toggleable__label {cursor: pointer;display: block;width: 100%;margin-bottom: 0;padding: 0.3em;box-sizing: border-box;text-align: center;}#sk-container-id-1 label.sk-toggleable__label-arrow:before {content: \"▸\";float: left;margin-right: 0.25em;color: #696969;}#sk-container-id-1 label.sk-toggleable__label-arrow:hover:before {color: black;}#sk-container-id-1 div.sk-estimator:hover label.sk-toggleable__label-arrow:before {color: black;}#sk-container-id-1 div.sk-toggleable__content {max-height: 0;max-width: 0;overflow: hidden;text-align: left;background-color: #f0f8ff;}#sk-container-id-1 div.sk-toggleable__content pre {margin: 0.2em;color: black;border-radius: 0.25em;background-color: #f0f8ff;}#sk-container-id-1 input.sk-toggleable__control:checked~div.sk-toggleable__content {max-height: 200px;max-width: 100%;overflow: auto;}#sk-container-id-1 input.sk-toggleable__control:checked~label.sk-toggleable__label-arrow:before {content: \"▾\";}#sk-container-id-1 div.sk-estimator input.sk-toggleable__control:checked~label.sk-toggleable__label {background-color: #d4ebff;}#sk-container-id-1 div.sk-label input.sk-toggleable__control:checked~label.sk-toggleable__label {background-color: #d4ebff;}#sk-container-id-1 input.sk-hidden--visually {border: 0;clip: rect(1px 1px 1px 1px);clip: rect(1px, 1px, 1px, 1px);height: 1px;margin: -1px;overflow: hidden;padding: 0;position: absolute;width: 1px;}#sk-container-id-1 div.sk-estimator {font-family: monospace;background-color: #f0f8ff;border: 1px dotted black;border-radius: 0.25em;box-sizing: border-box;margin-bottom: 0.5em;}#sk-container-id-1 div.sk-estimator:hover {background-color: #d4ebff;}#sk-container-id-1 div.sk-parallel-item::after {content: \"\";width: 100%;border-bottom: 1px solid gray;flex-grow: 1;}#sk-container-id-1 div.sk-label:hover label.sk-toggleable__label {background-color: #d4ebff;}#sk-container-id-1 div.sk-serial::before {content: \"\";position: absolute;border-left: 1px solid gray;box-sizing: border-box;top: 0;bottom: 0;left: 50%;z-index: 0;}#sk-container-id-1 div.sk-serial {display: flex;flex-direction: column;align-items: center;background-color: white;padding-right: 0.2em;padding-left: 0.2em;position: relative;}#sk-container-id-1 div.sk-item {position: relative;z-index: 1;}#sk-container-id-1 div.sk-parallel {display: flex;align-items: stretch;justify-content: center;background-color: white;position: relative;}#sk-container-id-1 div.sk-item::before, #sk-container-id-1 div.sk-parallel-item::before {content: \"\";position: absolute;border-left: 1px solid gray;box-sizing: border-box;top: 0;bottom: 0;left: 50%;z-index: -1;}#sk-container-id-1 div.sk-parallel-item {display: flex;flex-direction: column;z-index: 1;position: relative;background-color: white;}#sk-container-id-1 div.sk-parallel-item:first-child::after {align-self: flex-end;width: 50%;}#sk-container-id-1 div.sk-parallel-item:last-child::after {align-self: flex-start;width: 50%;}#sk-container-id-1 div.sk-parallel-item:only-child::after {width: 0;}#sk-container-id-1 div.sk-dashed-wrapped {border: 1px dashed gray;margin: 0 0.4em 0.5em 0.4em;box-sizing: border-box;padding-bottom: 0.4em;background-color: white;}#sk-container-id-1 div.sk-label label {font-family: monospace;font-weight: bold;display: inline-block;line-height: 1.2em;}#sk-container-id-1 div.sk-label-container {text-align: center;}#sk-container-id-1 div.sk-container {/* jupyter's `normalize.less` sets `[hidden] { display: none; }` but bootstrap.min.css set `[hidden] { display: none !important; }` so we also need the `!important` here to be able to override the default hidden behavior on the sphinx rendered scikit-learn.org. See: https://github.com/scikit-learn/scikit-learn/issues/21755 */display: inline-block !important;position: relative;}#sk-container-id-1 div.sk-text-repr-fallback {display: none;}</style><div id=\"sk-container-id-1\" class=\"sk-top-container\"><div class=\"sk-text-repr-fallback\"><pre>Pipeline(steps=[(&#x27;clean_email&#x27;, ProcessEmail()),\n",
       "                (&#x27;bag_of_words&#x27;, CountVectorizer())])</pre><b>In a Jupyter environment, please rerun this cell to show the HTML representation or trust the notebook. <br />On GitHub, the HTML representation is unable to render, please try loading this page with nbviewer.org.</b></div><div class=\"sk-container\" hidden><div class=\"sk-item sk-dashed-wrapped\"><div class=\"sk-label-container\"><div class=\"sk-label sk-toggleable\"><input class=\"sk-toggleable__control sk-hidden--visually\" id=\"sk-estimator-id-1\" type=\"checkbox\" ><label for=\"sk-estimator-id-1\" class=\"sk-toggleable__label sk-toggleable__label-arrow\">Pipeline</label><div class=\"sk-toggleable__content\"><pre>Pipeline(steps=[(&#x27;clean_email&#x27;, ProcessEmail()),\n",
       "                (&#x27;bag_of_words&#x27;, CountVectorizer())])</pre></div></div></div><div class=\"sk-serial\"><div class=\"sk-item\"><div class=\"sk-estimator sk-toggleable\"><input class=\"sk-toggleable__control sk-hidden--visually\" id=\"sk-estimator-id-2\" type=\"checkbox\" ><label for=\"sk-estimator-id-2\" class=\"sk-toggleable__label sk-toggleable__label-arrow\">ProcessEmail</label><div class=\"sk-toggleable__content\"><pre>ProcessEmail()</pre></div></div></div><div class=\"sk-item\"><div class=\"sk-estimator sk-toggleable\"><input class=\"sk-toggleable__control sk-hidden--visually\" id=\"sk-estimator-id-3\" type=\"checkbox\" ><label for=\"sk-estimator-id-3\" class=\"sk-toggleable__label sk-toggleable__label-arrow\">CountVectorizer</label><div class=\"sk-toggleable__content\"><pre>CountVectorizer()</pre></div></div></div></div></div></div></div>"
      ],
      "text/plain": [
       "Pipeline(steps=[('clean_email', ProcessEmail()),\n",
       "                ('bag_of_words', CountVectorizer())])"
      ]
     },
     "execution_count": 17,
     "metadata": {},
     "output_type": "execute_result"
    }
   ],
   "source": [
    "prepare_pipeline"
   ]
  },
  {
   "cell_type": "code",
   "execution_count": 18,
   "id": "ba0c959a",
   "metadata": {},
   "outputs": [],
   "source": [
    "X_train_prepared = prepare_pipeline.fit_transform(X_train)"
   ]
  },
  {
   "cell_type": "code",
   "execution_count": 19,
   "id": "751f818d",
   "metadata": {},
   "outputs": [
    {
     "name": "stdout",
     "output_type": "stream",
     "text": [
      "(2436, 52454)\n"
     ]
    }
   ],
   "source": [
    "print(X_train_prepared.shape)"
   ]
  },
  {
   "cell_type": "code",
   "execution_count": null,
   "id": "33cb5ae9",
   "metadata": {},
   "outputs": [],
   "source": []
  },
  {
   "cell_type": "markdown",
   "id": "b3432f51",
   "metadata": {},
   "source": [
    "## 3. Classifiers train and evaluation"
   ]
  },
  {
   "cell_type": "code",
   "execution_count": 20,
   "id": "0e687a94",
   "metadata": {},
   "outputs": [],
   "source": [
    "import matplotlib as mpl\n",
    "import matplotlib.pyplot as plt\n",
    "\n",
    "import warnings\n",
    "\n",
    "# stop scikit-learn's deprecation warnings\n",
    "warnings.filterwarnings(\"ignore\", category=FutureWarning)\n",
    "\n"
   ]
  },
  {
   "cell_type": "markdown",
   "id": "81fd718f",
   "metadata": {},
   "source": [
    "Training different classifiers:\n",
    "- SGD classifier\n",
    "- Decision tree\n",
    "- Random forest\n",
    "- SVC"
   ]
  },
  {
   "cell_type": "code",
   "execution_count": 21,
   "id": "35e50619",
   "metadata": {},
   "outputs": [],
   "source": [
    "from sklearn.linear_model import SGDClassifier\n",
    "from sklearn.tree import DecisionTreeClassifier\n",
    "from sklearn.ensemble import RandomForestClassifier\n",
    "from sklearn.svm import SVC\n",
    "\n",
    "# classification models\n",
    "sgd_clf = SGDClassifier(random_state=42, max_iter=100)\n",
    "tree_clf = DecisionTreeClassifier()\n",
    "forest_clf = RandomForestClassifier()\n",
    "svm_clf = SVC()\n",
    "\n",
    "classifiers = {\n",
    "    'SGD': sgd_clf,\n",
    "    'Decision Tree': tree_clf,\n",
    "    'Random Forest': forest_clf,\n",
    "    'SVM': svm_clf,\n",
    "}\n"
   ]
  },
  {
   "cell_type": "code",
   "execution_count": 22,
   "id": "d1bca1da",
   "metadata": {},
   "outputs": [],
   "source": [
    "from sklearn.model_selection import cross_val_predict\n",
    "\n",
    "# make predictions using each model\n",
    "y_preds = {}\n",
    "for clf_name, clf in classifiers.items():\n",
    "    y_preds[clf_name] = cross_val_predict(clf, X_train_prepared, y_train, cv=3)"
   ]
  },
  {
   "cell_type": "code",
   "execution_count": 23,
   "id": "a3180e99",
   "metadata": {},
   "outputs": [
    {
     "name": "stdout",
     "output_type": "stream",
     "text": [
      "SGD:\n",
      "0.965927750410509\n",
      "\n",
      "Decision Tree:\n",
      "0.9261083743842364\n",
      "\n",
      "Random Forest:\n",
      "0.9638752052545156\n",
      "\n",
      "SVM:\n",
      "0.9142036124794746\n",
      "\n"
     ]
    }
   ],
   "source": [
    "from sklearn.metrics import accuracy_score\n",
    "\n",
    "# evaluate each classifier's accuracy\n",
    "for clf_name, y_pred in y_preds.items():\n",
    "    print(\"{}:\".format(clf_name))\n",
    "    print(accuracy_score(y_train, y_pred))\n",
    "    print()"
   ]
  },
  {
   "cell_type": "markdown",
   "id": "ee8d8326",
   "metadata": {},
   "source": [
    "At the moment the two most promisings are SGD and Random forest. Let's evaluate them a bit further."
   ]
  },
  {
   "cell_type": "code",
   "execution_count": 24,
   "id": "3cbc8e52",
   "metadata": {},
   "outputs": [],
   "source": [
    "from sklearn.model_selection import cross_val_predict\n",
    "\n",
    "# calculate scores for each model\n",
    "y_scores = {}\n",
    "clf_thresholds = {}\n",
    "\n",
    "for clf_name, clf in classifiers.items():\n",
    "    method = 'predict_proba'\n",
    "    if not hasattr(clf, 'predict_proba') and hasattr(clf, 'decision_function'):\n",
    "        method = 'decision_function'\n",
    "    y_scores[clf_name] = cross_val_predict(clf, X_train_prepared, y_train, cv=3,\n",
    "                                           method=method)\n",
    "    if method == 'predict_proba':\n",
    "        y_scores[clf_name] = y_scores[clf_name][:,1]\n",
    "        clf_thresholds[clf_name] = 0.5\n",
    "    else:\n",
    "        clf_thresholds[clf_name] = 0"
   ]
  },
  {
   "cell_type": "code",
   "execution_count": 25,
   "id": "e9c01c06",
   "metadata": {},
   "outputs": [],
   "source": [
    "# EVALUATION FUNCTION\n",
    "\n",
    "from sklearn.metrics import confusion_matrix\n",
    "from sklearn.metrics import precision_score, recall_score, f1_score\n",
    "\n",
    "def eval_confusion(y_pred, y_true=y_train):\n",
    "    conf_matrix = confusion_matrix(y_true, y_pred)\n",
    "    precision = precision_score(y_true, y_pred)\n",
    "    recall = recall_score(y_true, y_pred)\n",
    "    f1 = f1_score(y_true, y_pred)\n",
    "    return {'matrix': conf_matrix, 'precision': precision, 'recall': recall, 'f1': f1}\n"
   ]
  },
  {
   "cell_type": "markdown",
   "id": "9b2010eb",
   "metadata": {},
   "source": [
    "##### PRECISION-RECALL CURVE"
   ]
  },
  {
   "cell_type": "code",
   "execution_count": 26,
   "id": "47b5c892",
   "metadata": {},
   "outputs": [],
   "source": [
    "from sklearn.metrics import precision_recall_curve\n",
    "\n",
    "def plot_precision_vs_recall(y_scores, threshold=0, label=None, style='b-'):\n",
    "    \"\"\"plot precision vs recall for different thresholds, highlight the specified threshold\"\"\"\n",
    "    \n",
    "    # calculate scores and precisions and recalls at different thresholds\n",
    "    precisions, recalls, thresholds = precision_recall_curve(y_train, y_scores)\n",
    "    \n",
    "    # plot the precision and recall curves\n",
    "    plt.plot(recalls, precisions, style, label=label)\n",
    "    \n",
    "    # highlight the threshold\n",
    "    y_pred = y_scores >= threshold\n",
    "    hl_precision = precision_score(y_train, y_pred)\n",
    "    hl_recall = recall_score(y_train, y_pred)\n",
    "    \n",
    "    plt.plot([0, hl_recall], [hl_precision, hl_precision], 'r:')\n",
    "    plt.plot([hl_recall, hl_recall], [0, hl_precision], 'r:')\n",
    "    plt.plot([hl_recall], [hl_precision], 'ro')"
   ]
  },
  {
   "cell_type": "code",
   "execution_count": 27,
   "id": "cb74f73b",
   "metadata": {},
   "outputs": [
    {
     "data": {
      "image/png": "[encoded data removed]",
      "text/plain": [
       "<Figure size 800x500 with 1 Axes>"
      ]
     },
     "metadata": {},
     "output_type": "display_data"
    }
   ],
   "source": [
    "# plot recall vs precision for each model\n",
    "mpl.style.use('default')\n",
    "plt.figure(figsize=(8, 5))\n",
    "\n",
    "styles = {\n",
    "    'SGD': 'r--',\n",
    "    'Decision Tree': 'g--',\n",
    "    'Random Forest': 'b--',\n",
    "    'SVM': 'c--'\n",
    "\n",
    "}\n",
    "\n",
    "for clf_name, y_score in y_scores.items():\n",
    "    plot_precision_vs_recall(y_score, threshold=clf_thresholds[clf_name], label=clf_name,\n",
    "                             style=styles[clf_name])\n",
    "    \n",
    "plt.grid(True)\n",
    "plt.xlabel('Recall')\n",
    "plt.ylabel('Precision')\n",
    "plt.legend(loc='lower right')\n",
    "plt.show()\n"
   ]
  },
  {
   "cell_type": "markdown",
   "id": "9e885c15",
   "metadata": {},
   "source": [
    "SDG and random forest seem to have the better precision-recall tradeoff.  The most optimal point on the PR curve should be (1,1)"
   ]
  },
  {
   "cell_type": "markdown",
   "id": "eafde94c",
   "metadata": {},
   "source": [
    "##### ROC - CURVE"
   ]
  },
  {
   "cell_type": "code",
   "execution_count": 28,
   "id": "a8f5d882",
   "metadata": {},
   "outputs": [],
   "source": [
    "from sklearn.metrics import roc_curve\n",
    "\n",
    "def plot_roc(y_scores, threshold=0, label=None, style='b-'):\n",
    "    \"\"\"plot the ROC curve\"\"\"\n",
    "    \n",
    "    fpr, tpr, thresholds = roc_curve(y_train, y_scores)\n",
    "    \n",
    "    # plot the ROC curve\n",
    "    plt.plot(fpr, tpr, style, label=label)\n",
    "    \n",
    "    # false positive rate: false positives / true negatives + false positives\n",
    "    # true positive rate (recall): true positives / (true positives + false negatives)\n",
    "    # highlight the threshold\n",
    "    y_pred = y_scores > threshold\n",
    "    hl_fp = np.sum(np.logical_and(y_pred == True, y_train == 0))\n",
    "    hl_tp = np.sum(np.logical_and(y_pred == True, y_train == 1))\n",
    "    hl_fpr = hl_fp / np.sum(y_train == 0)\n",
    "    hl_tpr = hl_tp / np.sum(y_train == 1)\n",
    "    \n",
    "    plt.plot([0, hl_fpr], [hl_tpr, hl_tpr], 'r:')\n",
    "    plt.plot([hl_fpr, hl_fpr], [0, hl_tpr], 'r:')\n",
    "    plt.plot([hl_fpr], [hl_tpr], 'ro')"
   ]
  },
  {
   "cell_type": "code",
   "execution_count": 29,
   "id": "32f92b58",
   "metadata": {},
   "outputs": [
    {
     "data": {
      "image/png": "[encoded data removed]",
      "text/plain": [
       "<Figure size 800x500 with 1 Axes>"
      ]
     },
     "metadata": {},
     "output_type": "display_data"
    }
   ],
   "source": [
    "# plot ROC curve for each model\n",
    "mpl.style.use('default')\n",
    "plt.figure(figsize=(8, 5))\n",
    "\n",
    "# ROC for purely random classifier\n",
    "plt.plot([0, 1], [0, 1], 'k--')\n",
    "\n",
    "for clf_name, y_score in y_scores.items():\n",
    "    plot_roc(y_score, threshold=clf_thresholds[clf_name], label=clf_name, style=styles[clf_name])\n",
    "    \n",
    "plt.grid(True)\n",
    "plt.xlabel('False Positive Rate')\n",
    "plt.ylabel('True Positive Rate (Recall)')\n",
    "plt.legend(loc='lower right')\n",
    "plt.show()"
   ]
  },
  {
   "cell_type": "code",
   "execution_count": 30,
   "id": "1cde7f12",
   "metadata": {},
   "outputs": [
    {
     "name": "stdout",
     "output_type": "stream",
     "text": [
      "ROC AUC scores:\n",
      "- SGD: 0.982886662322146\n",
      "- Decision Tree: 0.9254154447702834\n",
      "- Random Forest: 0.994470240034756\n",
      "- SVM: 0.9840345660910177\n"
     ]
    }
   ],
   "source": [
    "# calculate all ROC AUCs\n",
    "from sklearn.metrics import roc_auc_score\n",
    "\n",
    "print(\"ROC AUC scores:\")\n",
    "for clf_name, y_score in y_scores.items():\n",
    "    roc_auc = roc_auc_score(y_train, y_score)\n",
    "    print(\"- {}: {}\".format(clf_name, roc_auc))\n"
   ]
  },
  {
   "cell_type": "markdown",
   "id": "533a9eca",
   "metadata": {},
   "source": [
    "The best models so far are the SDG and random forest. SVM also has good AUC values.  Let's fine tune these three. "
   ]
  },
  {
   "cell_type": "markdown",
   "id": "10769f04",
   "metadata": {},
   "source": [
    "## 4. Models fine tunning"
   ]
  },
  {
   "cell_type": "code",
   "execution_count": 31,
   "id": "c5004bfd",
   "metadata": {},
   "outputs": [
    {
     "name": "stdout",
     "output_type": "stream",
     "text": [
      "Fitting 5 folds for each of 5 candidates, totalling 25 fits\n",
      "[CV] END C=629.7823295913721, gamma=3.010121430917521, kernel=linear; total time=   1.0s\n",
      "[CV] END C=629.7823295913721, gamma=3.010121430917521, kernel=linear; total time=   0.9s\n",
      "[CV] END C=629.7823295913721, gamma=3.010121430917521, kernel=linear; total time=   0.9s\n",
      "[CV] END C=629.7823295913721, gamma=3.010121430917521, kernel=linear; total time=   0.8s\n",
      "[CV] END C=629.7823295913721, gamma=3.010121430917521, kernel=linear; total time=   0.9s\n",
      "[CV] END C=26290.20646430022, gamma=0.9084469696321253, kernel=rbf; total time=   5.1s\n",
      "[CV] END C=26290.20646430022, gamma=0.9084469696321253, kernel=rbf; total time=   4.9s\n",
      "[CV] END C=26290.20646430022, gamma=0.9084469696321253, kernel=rbf; total time=   4.7s\n",
      "[CV] END C=26290.20646430022, gamma=0.9084469696321253, kernel=rbf; total time=   4.7s\n",
      "[CV] END C=26290.20646430022, gamma=0.9084469696321253, kernel=rbf; total time=   4.8s\n",
      "[CV] END C=84.14107900575871, gamma=0.059838768608680676, kernel=rbf; total time=   4.7s\n",
      "[CV] END C=84.14107900575871, gamma=0.059838768608680676, kernel=rbf; total time=   5.0s\n",
      "[CV] END C=84.14107900575871, gamma=0.059838768608680676, kernel=rbf; total time=   4.9s\n",
      "[CV] END C=84.14107900575871, gamma=0.059838768608680676, kernel=rbf; total time=   4.8s\n",
      "[CV] END C=84.14107900575871, gamma=0.059838768608680676, kernel=rbf; total time=   4.8s\n",
      "[CV] END C=432.37884813148844, gamma=0.15416196746656105, kernel=linear; total time=   0.8s\n",
      "[CV] END C=432.37884813148844, gamma=0.15416196746656105, kernel=linear; total time=   0.8s\n",
      "[CV] END C=432.37884813148844, gamma=0.15416196746656105, kernel=linear; total time=   0.9s\n",
      "[CV] END C=432.37884813148844, gamma=0.15416196746656105, kernel=linear; total time=   0.7s\n",
      "[CV] END C=432.37884813148844, gamma=0.15416196746656105, kernel=linear; total time=   0.8s\n",
      "[CV] END C=24.175082946113903, gamma=3.503557475158312, kernel=rbf; total time=   4.9s\n",
      "[CV] END C=24.175082946113903, gamma=3.503557475158312, kernel=rbf; total time=   5.0s\n",
      "[CV] END C=24.175082946113903, gamma=3.503557475158312, kernel=rbf; total time=   4.8s\n",
      "[CV] END C=24.175082946113903, gamma=3.503557475158312, kernel=rbf; total time=   4.8s\n",
      "[CV] END C=24.175082946113903, gamma=3.503557475158312, kernel=rbf; total time=   4.8s\n"
     ]
    },
    {
     "data": {
      "text/html": [
       "<style>#sk-container-id-2 {color: black;}#sk-container-id-2 pre{padding: 0;}#sk-container-id-2 div.sk-toggleable {background-color: white;}#sk-container-id-2 label.sk-toggleable__label {cursor: pointer;display: block;width: 100%;margin-bottom: 0;padding: 0.3em;box-sizing: border-box;text-align: center;}#sk-container-id-2 label.sk-toggleable__label-arrow:before {content: \"▸\";float: left;margin-right: 0.25em;color: #696969;}#sk-container-id-2 label.sk-toggleable__label-arrow:hover:before {color: black;}#sk-container-id-2 div.sk-estimator:hover label.sk-toggleable__label-arrow:before {color: black;}#sk-container-id-2 div.sk-toggleable__content {max-height: 0;max-width: 0;overflow: hidden;text-align: left;background-color: #f0f8ff;}#sk-container-id-2 div.sk-toggleable__content pre {margin: 0.2em;color: black;border-radius: 0.25em;background-color: #f0f8ff;}#sk-container-id-2 input.sk-toggleable__control:checked~div.sk-toggleable__content {max-height: 200px;max-width: 100%;overflow: auto;}#sk-container-id-2 input.sk-toggleable__control:checked~label.sk-toggleable__label-arrow:before {content: \"▾\";}#sk-container-id-2 div.sk-estimator input.sk-toggleable__control:checked~label.sk-toggleable__label {background-color: #d4ebff;}#sk-container-id-2 div.sk-label input.sk-toggleable__control:checked~label.sk-toggleable__label {background-color: #d4ebff;}#sk-container-id-2 input.sk-hidden--visually {border: 0;clip: rect(1px 1px 1px 1px);clip: rect(1px, 1px, 1px, 1px);height: 1px;margin: -1px;overflow: hidden;padding: 0;position: absolute;width: 1px;}#sk-container-id-2 div.sk-estimator {font-family: monospace;background-color: #f0f8ff;border: 1px dotted black;border-radius: 0.25em;box-sizing: border-box;margin-bottom: 0.5em;}#sk-container-id-2 div.sk-estimator:hover {background-color: #d4ebff;}#sk-container-id-2 div.sk-parallel-item::after {content: \"\";width: 100%;border-bottom: 1px solid gray;flex-grow: 1;}#sk-container-id-2 div.sk-label:hover label.sk-toggleable__label {background-color: #d4ebff;}#sk-container-id-2 div.sk-serial::before {content: \"\";position: absolute;border-left: 1px solid gray;box-sizing: border-box;top: 0;bottom: 0;left: 50%;z-index: 0;}#sk-container-id-2 div.sk-serial {display: flex;flex-direction: column;align-items: center;background-color: white;padding-right: 0.2em;padding-left: 0.2em;position: relative;}#sk-container-id-2 div.sk-item {position: relative;z-index: 1;}#sk-container-id-2 div.sk-parallel {display: flex;align-items: stretch;justify-content: center;background-color: white;position: relative;}#sk-container-id-2 div.sk-item::before, #sk-container-id-2 div.sk-parallel-item::before {content: \"\";position: absolute;border-left: 1px solid gray;box-sizing: border-box;top: 0;bottom: 0;left: 50%;z-index: -1;}#sk-container-id-2 div.sk-parallel-item {display: flex;flex-direction: column;z-index: 1;position: relative;background-color: white;}#sk-container-id-2 div.sk-parallel-item:first-child::after {align-self: flex-end;width: 50%;}#sk-container-id-2 div.sk-parallel-item:last-child::after {align-self: flex-start;width: 50%;}#sk-container-id-2 div.sk-parallel-item:only-child::after {width: 0;}#sk-container-id-2 div.sk-dashed-wrapped {border: 1px dashed gray;margin: 0 0.4em 0.5em 0.4em;box-sizing: border-box;padding-bottom: 0.4em;background-color: white;}#sk-container-id-2 div.sk-label label {font-family: monospace;font-weight: bold;display: inline-block;line-height: 1.2em;}#sk-container-id-2 div.sk-label-container {text-align: center;}#sk-container-id-2 div.sk-container {/* jupyter's `normalize.less` sets `[hidden] { display: none; }` but bootstrap.min.css set `[hidden] { display: none !important; }` so we also need the `!important` here to be able to override the default hidden behavior on the sphinx rendered scikit-learn.org. See: https://github.com/scikit-learn/scikit-learn/issues/21755 */display: inline-block !important;position: relative;}#sk-container-id-2 div.sk-text-repr-fallback {display: none;}</style><div id=\"sk-container-id-2\" class=\"sk-top-container\"><div class=\"sk-text-repr-fallback\"><pre>RandomizedSearchCV(cv=5, estimator=SVC(), n_iter=5,\n",
       "                   param_distributions={&#x27;C&#x27;: &lt;scipy.stats._distn_infrastructure.rv_continuous_frozen object at 0x000001AA96CB3D00&gt;,\n",
       "                                        &#x27;gamma&#x27;: &lt;scipy.stats._distn_infrastructure.rv_continuous_frozen object at 0x000001AA938E8700&gt;,\n",
       "                                        &#x27;kernel&#x27;: [&#x27;linear&#x27;, &#x27;rbf&#x27;]},\n",
       "                   random_state=42, scoring=&#x27;f1&#x27;, verbose=2)</pre><b>In a Jupyter environment, please rerun this cell to show the HTML representation or trust the notebook. <br />On GitHub, the HTML representation is unable to render, please try loading this page with nbviewer.org.</b></div><div class=\"sk-container\" hidden><div class=\"sk-item sk-dashed-wrapped\"><div class=\"sk-label-container\"><div class=\"sk-label sk-toggleable\"><input class=\"sk-toggleable__control sk-hidden--visually\" id=\"sk-estimator-id-4\" type=\"checkbox\" ><label for=\"sk-estimator-id-4\" class=\"sk-toggleable__label sk-toggleable__label-arrow\">RandomizedSearchCV</label><div class=\"sk-toggleable__content\"><pre>RandomizedSearchCV(cv=5, estimator=SVC(), n_iter=5,\n",
       "                   param_distributions={&#x27;C&#x27;: &lt;scipy.stats._distn_infrastructure.rv_continuous_frozen object at 0x000001AA96CB3D00&gt;,\n",
       "                                        &#x27;gamma&#x27;: &lt;scipy.stats._distn_infrastructure.rv_continuous_frozen object at 0x000001AA938E8700&gt;,\n",
       "                                        &#x27;kernel&#x27;: [&#x27;linear&#x27;, &#x27;rbf&#x27;]},\n",
       "                   random_state=42, scoring=&#x27;f1&#x27;, verbose=2)</pre></div></div></div><div class=\"sk-parallel\"><div class=\"sk-parallel-item\"><div class=\"sk-item\"><div class=\"sk-label-container\"><div class=\"sk-label sk-toggleable\"><input class=\"sk-toggleable__control sk-hidden--visually\" id=\"sk-estimator-id-5\" type=\"checkbox\" ><label for=\"sk-estimator-id-5\" class=\"sk-toggleable__label sk-toggleable__label-arrow\">estimator: SVC</label><div class=\"sk-toggleable__content\"><pre>SVC()</pre></div></div></div><div class=\"sk-serial\"><div class=\"sk-item\"><div class=\"sk-estimator sk-toggleable\"><input class=\"sk-toggleable__control sk-hidden--visually\" id=\"sk-estimator-id-6\" type=\"checkbox\" ><label for=\"sk-estimator-id-6\" class=\"sk-toggleable__label sk-toggleable__label-arrow\">SVC</label><div class=\"sk-toggleable__content\"><pre>SVC()</pre></div></div></div></div></div></div></div></div></div></div>"
      ],
      "text/plain": [
       "RandomizedSearchCV(cv=5, estimator=SVC(), n_iter=5,\n",
       "                   param_distributions={'C': <scipy.stats._distn_infrastructure.rv_continuous_frozen object at 0x000001AA96CB3D00>,\n",
       "                                        'gamma': <scipy.stats._distn_infrastructure.rv_continuous_frozen object at 0x000001AA938E8700>,\n",
       "                                        'kernel': ['linear', 'rbf']},\n",
       "                   random_state=42, scoring='f1', verbose=2)"
      ]
     },
     "execution_count": 31,
     "metadata": {},
     "output_type": "execute_result"
    }
   ],
   "source": [
    "# SVM fine-tunning\n",
    "\n",
    "from sklearn.model_selection import RandomizedSearchCV\n",
    "import scipy.stats\n",
    "\n",
    "# fine-tune SVM classifier\n",
    "svm_best = SVC()\n",
    "svm_param_dist = {\n",
    "    'kernel': ['linear', 'rbf'],\n",
    "    'C': scipy.stats.reciprocal(20, 200000),\n",
    "    'gamma': scipy.stats.expon(scale=1.0)\n",
    "}\n",
    "\n",
    "svm_randomized_search = RandomizedSearchCV(svm_best, svm_param_dist, n_iter=5, scoring='f1',\n",
    "                                           cv=5, verbose=2, random_state=42)\n",
    "svm_randomized_search.fit(X_train_prepared, y_train)\n",
    "\n"
   ]
  },
  {
   "cell_type": "code",
   "execution_count": 32,
   "id": "e0f5a43e",
   "metadata": {},
   "outputs": [
    {
     "name": "stdout",
     "output_type": "stream",
     "text": [
      "Fine-Tuned SVM Model:\n",
      "Accuracy: 0.9589490968801314\n",
      "AUC: 0.9590053763440861\n"
     ]
    }
   ],
   "source": [
    "from sklearn.metrics import accuracy_score, roc_auc_score\n",
    "\n",
    "# Predict with the fine-tuned SVM model using cross-validation\n",
    "y_pred_svm_finetuned = cross_val_predict(svm_randomized_search.best_estimator_, X_train_prepared, y_train, cv=3)\n",
    "\n",
    "# Calculate accuracy and AUC for the fine-tuned SVM model\n",
    "accuracy_finetuned = accuracy_score(y_train, y_pred_svm_finetuned)\n",
    "auc_finetuned = roc_auc_score(y_train, y_pred_svm_finetuned)  # Ensure y_train and y_pred are appropriately formatted\n",
    "\n",
    "print(\"Fine-Tuned SVM Model:\")\n",
    "print(\"Accuracy:\", accuracy_finetuned)\n",
    "print(\"AUC:\", auc_finetuned)\n"
   ]
  },
  {
   "cell_type": "code",
   "execution_count": 33,
   "id": "eb340d9e",
   "metadata": {},
   "outputs": [
    {
     "name": "stdout",
     "output_type": "stream",
     "text": [
      "Fitting 5 folds for each of 5 candidates, totalling 25 fits\n",
      "[CV] END alpha=0.0013292918943162175, loss=modified_huber, penalty=elasticnet; total time=   0.1s\n",
      "[CV] END alpha=0.0013292918943162175, loss=modified_huber, penalty=elasticnet; total time=   0.0s\n",
      "[CV] END alpha=0.0013292918943162175, loss=modified_huber, penalty=elasticnet; total time=   0.0s\n",
      "[CV] END alpha=0.0013292918943162175, loss=modified_huber, penalty=elasticnet; total time=   0.1s\n",
      "[CV] END alpha=0.0013292918943162175, loss=modified_huber, penalty=elasticnet; total time=   0.1s\n",
      "[CV] END alpha=0.015702970884055395, loss=modified_huber, penalty=l2; total time=   0.0s\n",
      "[CV] END alpha=0.015702970884055395, loss=modified_huber, penalty=l2; total time=   0.0s\n",
      "[CV] END alpha=0.015702970884055395, loss=modified_huber, penalty=l2; total time=   0.0s\n",
      "[CV] END alpha=0.015702970884055395, loss=modified_huber, penalty=l2; total time=   0.0s\n",
      "[CV] END alpha=0.015702970884055395, loss=modified_huber, penalty=l2; total time=   0.0s\n",
      "[CV] END alpha=0.00029380279387035364, loss=modified_huber, penalty=elasticnet; total time=   0.0s\n",
      "[CV] END alpha=0.00029380279387035364, loss=modified_huber, penalty=elasticnet; total time=   0.0s\n",
      "[CV] END alpha=0.00029380279387035364, loss=modified_huber, penalty=elasticnet; total time=   0.1s\n",
      "[CV] END alpha=0.00029380279387035364, loss=modified_huber, penalty=elasticnet; total time=   0.1s\n",
      "[CV] END alpha=0.00029380279387035364, loss=modified_huber, penalty=elasticnet; total time=   0.1s\n",
      "[CV] END .alpha=0.00014936568554617635, loss=log, penalty=l2; total time=   0.0s\n",
      "[CV] END .alpha=0.00014936568554617635, loss=log, penalty=l2; total time=   0.0s\n",
      "[CV] END .alpha=0.00014936568554617635, loss=log, penalty=l2; total time=   0.0s\n",
      "[CV] END .alpha=0.00014936568554617635, loss=log, penalty=l2; total time=   0.0s\n",
      "[CV] END .alpha=0.00014936568554617635, loss=log, penalty=l2; total time=   0.0s\n",
      "[CV] END alpha=0.006358358856676255, loss=log, penalty=elasticnet; total time=   0.0s\n",
      "[CV] END alpha=0.006358358856676255, loss=log, penalty=elasticnet; total time=   0.0s\n",
      "[CV] END alpha=0.006358358856676255, loss=log, penalty=elasticnet; total time=   0.0s\n",
      "[CV] END alpha=0.006358358856676255, loss=log, penalty=elasticnet; total time=   0.0s\n",
      "[CV] END alpha=0.006358358856676255, loss=log, penalty=elasticnet; total time=   0.0s\n"
     ]
    },
    {
     "name": "stderr",
     "output_type": "stream",
     "text": [
      "C:\\Users\\Ihona\\AppData\\Local\\Programs\\Python\\Python310\\lib\\site-packages\\sklearn\\model_selection\\_validation.py:425: FitFailedWarning: \n",
      "10 fits failed out of a total of 25.\n",
      "The score on these train-test partitions for these parameters will be set to nan.\n",
      "If these failures are not expected, you can try to debug them by setting error_score='raise'.\n",
      "\n",
      "Below are more details about the failures:\n",
      "--------------------------------------------------------------------------------\n",
      "10 fits failed with the following error:\n",
      "Traceback (most recent call last):\n",
      "  File \"C:\\Users\\Ihona\\AppData\\Local\\Programs\\Python\\Python310\\lib\\site-packages\\sklearn\\model_selection\\_validation.py\", line 729, in _fit_and_score\n",
      "    estimator.fit(X_train, y_train, **fit_params)\n",
      "  File \"C:\\Users\\Ihona\\AppData\\Local\\Programs\\Python\\Python310\\lib\\site-packages\\sklearn\\base.py\", line 1145, in wrapper\n",
      "    estimator._validate_params()\n",
      "  File \"C:\\Users\\Ihona\\AppData\\Local\\Programs\\Python\\Python310\\lib\\site-packages\\sklearn\\base.py\", line 638, in _validate_params\n",
      "    validate_parameter_constraints(\n",
      "  File \"C:\\Users\\Ihona\\AppData\\Local\\Programs\\Python\\Python310\\lib\\site-packages\\sklearn\\utils\\_param_validation.py\", line 96, in validate_parameter_constraints\n",
      "    raise InvalidParameterError(\n",
      "sklearn.utils._param_validation.InvalidParameterError: The 'loss' parameter of SGDClassifier must be a str among {'hinge', 'squared_error', 'huber', 'perceptron', 'squared_epsilon_insensitive', 'modified_huber', 'squared_hinge', 'epsilon_insensitive', 'log_loss'}. Got 'log' instead.\n",
      "\n",
      "  warnings.warn(some_fits_failed_message, FitFailedWarning)\n",
      "C:\\Users\\Ihona\\AppData\\Local\\Programs\\Python\\Python310\\lib\\site-packages\\sklearn\\model_selection\\_search.py:979: UserWarning: One or more of the test scores are non-finite: [0.96302644 0.96120151 0.95953981        nan        nan]\n",
      "  warnings.warn(\n"
     ]
    },
    {
     "data": {
      "text/html": [
       "<style>#sk-container-id-3 {color: black;}#sk-container-id-3 pre{padding: 0;}#sk-container-id-3 div.sk-toggleable {background-color: white;}#sk-container-id-3 label.sk-toggleable__label {cursor: pointer;display: block;width: 100%;margin-bottom: 0;padding: 0.3em;box-sizing: border-box;text-align: center;}#sk-container-id-3 label.sk-toggleable__label-arrow:before {content: \"▸\";float: left;margin-right: 0.25em;color: #696969;}#sk-container-id-3 label.sk-toggleable__label-arrow:hover:before {color: black;}#sk-container-id-3 div.sk-estimator:hover label.sk-toggleable__label-arrow:before {color: black;}#sk-container-id-3 div.sk-toggleable__content {max-height: 0;max-width: 0;overflow: hidden;text-align: left;background-color: #f0f8ff;}#sk-container-id-3 div.sk-toggleable__content pre {margin: 0.2em;color: black;border-radius: 0.25em;background-color: #f0f8ff;}#sk-container-id-3 input.sk-toggleable__control:checked~div.sk-toggleable__content {max-height: 200px;max-width: 100%;overflow: auto;}#sk-container-id-3 input.sk-toggleable__control:checked~label.sk-toggleable__label-arrow:before {content: \"▾\";}#sk-container-id-3 div.sk-estimator input.sk-toggleable__control:checked~label.sk-toggleable__label {background-color: #d4ebff;}#sk-container-id-3 div.sk-label input.sk-toggleable__control:checked~label.sk-toggleable__label {background-color: #d4ebff;}#sk-container-id-3 input.sk-hidden--visually {border: 0;clip: rect(1px 1px 1px 1px);clip: rect(1px, 1px, 1px, 1px);height: 1px;margin: -1px;overflow: hidden;padding: 0;position: absolute;width: 1px;}#sk-container-id-3 div.sk-estimator {font-family: monospace;background-color: #f0f8ff;border: 1px dotted black;border-radius: 0.25em;box-sizing: border-box;margin-bottom: 0.5em;}#sk-container-id-3 div.sk-estimator:hover {background-color: #d4ebff;}#sk-container-id-3 div.sk-parallel-item::after {content: \"\";width: 100%;border-bottom: 1px solid gray;flex-grow: 1;}#sk-container-id-3 div.sk-label:hover label.sk-toggleable__label {background-color: #d4ebff;}#sk-container-id-3 div.sk-serial::before {content: \"\";position: absolute;border-left: 1px solid gray;box-sizing: border-box;top: 0;bottom: 0;left: 50%;z-index: 0;}#sk-container-id-3 div.sk-serial {display: flex;flex-direction: column;align-items: center;background-color: white;padding-right: 0.2em;padding-left: 0.2em;position: relative;}#sk-container-id-3 div.sk-item {position: relative;z-index: 1;}#sk-container-id-3 div.sk-parallel {display: flex;align-items: stretch;justify-content: center;background-color: white;position: relative;}#sk-container-id-3 div.sk-item::before, #sk-container-id-3 div.sk-parallel-item::before {content: \"\";position: absolute;border-left: 1px solid gray;box-sizing: border-box;top: 0;bottom: 0;left: 50%;z-index: -1;}#sk-container-id-3 div.sk-parallel-item {display: flex;flex-direction: column;z-index: 1;position: relative;background-color: white;}#sk-container-id-3 div.sk-parallel-item:first-child::after {align-self: flex-end;width: 50%;}#sk-container-id-3 div.sk-parallel-item:last-child::after {align-self: flex-start;width: 50%;}#sk-container-id-3 div.sk-parallel-item:only-child::after {width: 0;}#sk-container-id-3 div.sk-dashed-wrapped {border: 1px dashed gray;margin: 0 0.4em 0.5em 0.4em;box-sizing: border-box;padding-bottom: 0.4em;background-color: white;}#sk-container-id-3 div.sk-label label {font-family: monospace;font-weight: bold;display: inline-block;line-height: 1.2em;}#sk-container-id-3 div.sk-label-container {text-align: center;}#sk-container-id-3 div.sk-container {/* jupyter's `normalize.less` sets `[hidden] { display: none; }` but bootstrap.min.css set `[hidden] { display: none !important; }` so we also need the `!important` here to be able to override the default hidden behavior on the sphinx rendered scikit-learn.org. See: https://github.com/scikit-learn/scikit-learn/issues/21755 */display: inline-block !important;position: relative;}#sk-container-id-3 div.sk-text-repr-fallback {display: none;}</style><div id=\"sk-container-id-3\" class=\"sk-top-container\"><div class=\"sk-text-repr-fallback\"><pre>RandomizedSearchCV(cv=5, estimator=SGDClassifier(max_iter=100, random_state=42),\n",
       "                   n_iter=5,\n",
       "                   param_distributions={&#x27;alpha&#x27;: &lt;scipy.stats._distn_infrastructure.rv_continuous_frozen object at 0x000001AA9662A6E0&gt;,\n",
       "                                        &#x27;loss&#x27;: [&#x27;modified_huber&#x27;, &#x27;log&#x27;],\n",
       "                                        &#x27;penalty&#x27;: [&#x27;l2&#x27;, &#x27;l1&#x27;, &#x27;elasticnet&#x27;]},\n",
       "                   random_state=42, scoring=&#x27;f1&#x27;, verbose=2)</pre><b>In a Jupyter environment, please rerun this cell to show the HTML representation or trust the notebook. <br />On GitHub, the HTML representation is unable to render, please try loading this page with nbviewer.org.</b></div><div class=\"sk-container\" hidden><div class=\"sk-item sk-dashed-wrapped\"><div class=\"sk-label-container\"><div class=\"sk-label sk-toggleable\"><input class=\"sk-toggleable__control sk-hidden--visually\" id=\"sk-estimator-id-7\" type=\"checkbox\" ><label for=\"sk-estimator-id-7\" class=\"sk-toggleable__label sk-toggleable__label-arrow\">RandomizedSearchCV</label><div class=\"sk-toggleable__content\"><pre>RandomizedSearchCV(cv=5, estimator=SGDClassifier(max_iter=100, random_state=42),\n",
       "                   n_iter=5,\n",
       "                   param_distributions={&#x27;alpha&#x27;: &lt;scipy.stats._distn_infrastructure.rv_continuous_frozen object at 0x000001AA9662A6E0&gt;,\n",
       "                                        &#x27;loss&#x27;: [&#x27;modified_huber&#x27;, &#x27;log&#x27;],\n",
       "                                        &#x27;penalty&#x27;: [&#x27;l2&#x27;, &#x27;l1&#x27;, &#x27;elasticnet&#x27;]},\n",
       "                   random_state=42, scoring=&#x27;f1&#x27;, verbose=2)</pre></div></div></div><div class=\"sk-parallel\"><div class=\"sk-parallel-item\"><div class=\"sk-item\"><div class=\"sk-label-container\"><div class=\"sk-label sk-toggleable\"><input class=\"sk-toggleable__control sk-hidden--visually\" id=\"sk-estimator-id-8\" type=\"checkbox\" ><label for=\"sk-estimator-id-8\" class=\"sk-toggleable__label sk-toggleable__label-arrow\">estimator: SGDClassifier</label><div class=\"sk-toggleable__content\"><pre>SGDClassifier(max_iter=100, random_state=42)</pre></div></div></div><div class=\"sk-serial\"><div class=\"sk-item\"><div class=\"sk-estimator sk-toggleable\"><input class=\"sk-toggleable__control sk-hidden--visually\" id=\"sk-estimator-id-9\" type=\"checkbox\" ><label for=\"sk-estimator-id-9\" class=\"sk-toggleable__label sk-toggleable__label-arrow\">SGDClassifier</label><div class=\"sk-toggleable__content\"><pre>SGDClassifier(max_iter=100, random_state=42)</pre></div></div></div></div></div></div></div></div></div></div>"
      ],
      "text/plain": [
       "RandomizedSearchCV(cv=5, estimator=SGDClassifier(max_iter=100, random_state=42),\n",
       "                   n_iter=5,\n",
       "                   param_distributions={'alpha': <scipy.stats._distn_infrastructure.rv_continuous_frozen object at 0x000001AA9662A6E0>,\n",
       "                                        'loss': ['modified_huber', 'log'],\n",
       "                                        'penalty': ['l2', 'l1', 'elasticnet']},\n",
       "                   random_state=42, scoring='f1', verbose=2)"
      ]
     },
     "execution_count": 33,
     "metadata": {},
     "output_type": "execute_result"
    }
   ],
   "source": [
    "# SGD fine-tunning\n",
    "\n",
    "sgd_best=SGDClassifier(random_state=42, max_iter=100)\n",
    "sgd_param_dist = {\n",
    "    'loss': ['modified_huber', 'log'],\n",
    "    'alpha': scipy.stats.reciprocal(0.0001, 0.1),\n",
    "    'penalty': ['l2', 'l1', 'elasticnet']\n",
    "}\n",
    "\n",
    "\n",
    "sgd_randomized_search = RandomizedSearchCV(sgd_best, sgd_param_dist, n_iter=5, scoring='f1',\n",
    "                                           cv=5, verbose=2, random_state=42)\n",
    "sgd_randomized_search.fit(X_train_prepared, y_train)\n",
    "\n",
    "\n",
    "# Best model\n",
    "#best_model = random_search.best_estimator_\n",
    "\n",
    "# Predict and evaluate the model\n",
    "#predictions = best_model.predict(X_test)\n",
    "#print(classification_report(y_test, predictions))"
   ]
  },
  {
   "cell_type": "code",
   "execution_count": 34,
   "id": "dd0566fd",
   "metadata": {},
   "outputs": [
    {
     "name": "stdout",
     "output_type": "stream",
     "text": [
      "Fitting 5 folds for each of 5 candidates, totalling 25 fits\n",
      "[CV] END max_depth=20, max_features=sqrt, min_samples_leaf=1, min_samples_split=10, n_estimators=300; total time=  11.0s\n",
      "[CV] END max_depth=20, max_features=sqrt, min_samples_leaf=1, min_samples_split=10, n_estimators=300; total time=  11.0s\n",
      "[CV] END max_depth=20, max_features=sqrt, min_samples_leaf=1, min_samples_split=10, n_estimators=300; total time=  10.8s\n",
      "[CV] END max_depth=20, max_features=sqrt, min_samples_leaf=1, min_samples_split=10, n_estimators=300; total time=  11.1s\n",
      "[CV] END max_depth=20, max_features=sqrt, min_samples_leaf=1, min_samples_split=10, n_estimators=300; total time=  11.0s\n",
      "[CV] END max_depth=50, max_features=log2, min_samples_leaf=4, min_samples_split=2, n_estimators=100; total time=   0.1s\n",
      "[CV] END max_depth=50, max_features=log2, min_samples_leaf=4, min_samples_split=2, n_estimators=100; total time=   0.1s\n",
      "[CV] END max_depth=50, max_features=log2, min_samples_leaf=4, min_samples_split=2, n_estimators=100; total time=   0.1s\n",
      "[CV] END max_depth=50, max_features=log2, min_samples_leaf=4, min_samples_split=2, n_estimators=100; total time=   0.1s\n",
      "[CV] END max_depth=50, max_features=log2, min_samples_leaf=4, min_samples_split=2, n_estimators=100; total time=   0.2s\n",
      "[CV] END max_depth=40, max_features=sqrt, min_samples_leaf=1, min_samples_split=2, n_estimators=100; total time=   7.5s\n",
      "[CV] END max_depth=40, max_features=sqrt, min_samples_leaf=1, min_samples_split=2, n_estimators=100; total time=   7.4s\n",
      "[CV] END max_depth=40, max_features=sqrt, min_samples_leaf=1, min_samples_split=2, n_estimators=100; total time=   7.5s\n",
      "[CV] END max_depth=40, max_features=sqrt, min_samples_leaf=1, min_samples_split=2, n_estimators=100; total time=   7.6s\n",
      "[CV] END max_depth=40, max_features=sqrt, min_samples_leaf=1, min_samples_split=2, n_estimators=100; total time=   7.3s\n",
      "[CV] END max_depth=20, max_features=sqrt, min_samples_leaf=2, min_samples_split=2, n_estimators=200; total time=   7.6s\n",
      "[CV] END max_depth=20, max_features=sqrt, min_samples_leaf=2, min_samples_split=2, n_estimators=200; total time=   7.4s\n",
      "[CV] END max_depth=20, max_features=sqrt, min_samples_leaf=2, min_samples_split=2, n_estimators=200; total time=   7.4s\n",
      "[CV] END max_depth=20, max_features=sqrt, min_samples_leaf=2, min_samples_split=2, n_estimators=200; total time=   7.5s\n",
      "[CV] END max_depth=20, max_features=sqrt, min_samples_leaf=2, min_samples_split=2, n_estimators=200; total time=   7.6s\n",
      "[CV] END max_depth=10, max_features=log2, min_samples_leaf=2, min_samples_split=10, n_estimators=200; total time=   0.5s\n",
      "[CV] END max_depth=10, max_features=log2, min_samples_leaf=2, min_samples_split=10, n_estimators=200; total time=   0.5s\n",
      "[CV] END max_depth=10, max_features=log2, min_samples_leaf=2, min_samples_split=10, n_estimators=200; total time=   0.5s\n",
      "[CV] END max_depth=10, max_features=log2, min_samples_leaf=2, min_samples_split=10, n_estimators=200; total time=   0.5s\n",
      "[CV] END max_depth=10, max_features=log2, min_samples_leaf=2, min_samples_split=10, n_estimators=200; total time=   0.4s\n"
     ]
    },
    {
     "data": {
      "text/html": [
       "<style>#sk-container-id-4 {color: black;}#sk-container-id-4 pre{padding: 0;}#sk-container-id-4 div.sk-toggleable {background-color: white;}#sk-container-id-4 label.sk-toggleable__label {cursor: pointer;display: block;width: 100%;margin-bottom: 0;padding: 0.3em;box-sizing: border-box;text-align: center;}#sk-container-id-4 label.sk-toggleable__label-arrow:before {content: \"▸\";float: left;margin-right: 0.25em;color: #696969;}#sk-container-id-4 label.sk-toggleable__label-arrow:hover:before {color: black;}#sk-container-id-4 div.sk-estimator:hover label.sk-toggleable__label-arrow:before {color: black;}#sk-container-id-4 div.sk-toggleable__content {max-height: 0;max-width: 0;overflow: hidden;text-align: left;background-color: #f0f8ff;}#sk-container-id-4 div.sk-toggleable__content pre {margin: 0.2em;color: black;border-radius: 0.25em;background-color: #f0f8ff;}#sk-container-id-4 input.sk-toggleable__control:checked~div.sk-toggleable__content {max-height: 200px;max-width: 100%;overflow: auto;}#sk-container-id-4 input.sk-toggleable__control:checked~label.sk-toggleable__label-arrow:before {content: \"▾\";}#sk-container-id-4 div.sk-estimator input.sk-toggleable__control:checked~label.sk-toggleable__label {background-color: #d4ebff;}#sk-container-id-4 div.sk-label input.sk-toggleable__control:checked~label.sk-toggleable__label {background-color: #d4ebff;}#sk-container-id-4 input.sk-hidden--visually {border: 0;clip: rect(1px 1px 1px 1px);clip: rect(1px, 1px, 1px, 1px);height: 1px;margin: -1px;overflow: hidden;padding: 0;position: absolute;width: 1px;}#sk-container-id-4 div.sk-estimator {font-family: monospace;background-color: #f0f8ff;border: 1px dotted black;border-radius: 0.25em;box-sizing: border-box;margin-bottom: 0.5em;}#sk-container-id-4 div.sk-estimator:hover {background-color: #d4ebff;}#sk-container-id-4 div.sk-parallel-item::after {content: \"\";width: 100%;border-bottom: 1px solid gray;flex-grow: 1;}#sk-container-id-4 div.sk-label:hover label.sk-toggleable__label {background-color: #d4ebff;}#sk-container-id-4 div.sk-serial::before {content: \"\";position: absolute;border-left: 1px solid gray;box-sizing: border-box;top: 0;bottom: 0;left: 50%;z-index: 0;}#sk-container-id-4 div.sk-serial {display: flex;flex-direction: column;align-items: center;background-color: white;padding-right: 0.2em;padding-left: 0.2em;position: relative;}#sk-container-id-4 div.sk-item {position: relative;z-index: 1;}#sk-container-id-4 div.sk-parallel {display: flex;align-items: stretch;justify-content: center;background-color: white;position: relative;}#sk-container-id-4 div.sk-item::before, #sk-container-id-4 div.sk-parallel-item::before {content: \"\";position: absolute;border-left: 1px solid gray;box-sizing: border-box;top: 0;bottom: 0;left: 50%;z-index: -1;}#sk-container-id-4 div.sk-parallel-item {display: flex;flex-direction: column;z-index: 1;position: relative;background-color: white;}#sk-container-id-4 div.sk-parallel-item:first-child::after {align-self: flex-end;width: 50%;}#sk-container-id-4 div.sk-parallel-item:last-child::after {align-self: flex-start;width: 50%;}#sk-container-id-4 div.sk-parallel-item:only-child::after {width: 0;}#sk-container-id-4 div.sk-dashed-wrapped {border: 1px dashed gray;margin: 0 0.4em 0.5em 0.4em;box-sizing: border-box;padding-bottom: 0.4em;background-color: white;}#sk-container-id-4 div.sk-label label {font-family: monospace;font-weight: bold;display: inline-block;line-height: 1.2em;}#sk-container-id-4 div.sk-label-container {text-align: center;}#sk-container-id-4 div.sk-container {/* jupyter's `normalize.less` sets `[hidden] { display: none; }` but bootstrap.min.css set `[hidden] { display: none !important; }` so we also need the `!important` here to be able to override the default hidden behavior on the sphinx rendered scikit-learn.org. See: https://github.com/scikit-learn/scikit-learn/issues/21755 */display: inline-block !important;position: relative;}#sk-container-id-4 div.sk-text-repr-fallback {display: none;}</style><div id=\"sk-container-id-4\" class=\"sk-top-container\"><div class=\"sk-text-repr-fallback\"><pre>RandomizedSearchCV(cv=5, estimator=RandomForestClassifier(), n_iter=5,\n",
       "                   param_distributions={&#x27;max_depth&#x27;: [10, 20, 30, 40, 50, None],\n",
       "                                        &#x27;max_features&#x27;: [&#x27;sqrt&#x27;, &#x27;log2&#x27;],\n",
       "                                        &#x27;min_samples_leaf&#x27;: [1, 2, 4],\n",
       "                                        &#x27;min_samples_split&#x27;: [2, 5, 10],\n",
       "                                        &#x27;n_estimators&#x27;: [100, 200, 300, 400,\n",
       "                                                         500]},\n",
       "                   random_state=42, scoring=&#x27;f1&#x27;, verbose=2)</pre><b>In a Jupyter environment, please rerun this cell to show the HTML representation or trust the notebook. <br />On GitHub, the HTML representation is unable to render, please try loading this page with nbviewer.org.</b></div><div class=\"sk-container\" hidden><div class=\"sk-item sk-dashed-wrapped\"><div class=\"sk-label-container\"><div class=\"sk-label sk-toggleable\"><input class=\"sk-toggleable__control sk-hidden--visually\" id=\"sk-estimator-id-10\" type=\"checkbox\" ><label for=\"sk-estimator-id-10\" class=\"sk-toggleable__label sk-toggleable__label-arrow\">RandomizedSearchCV</label><div class=\"sk-toggleable__content\"><pre>RandomizedSearchCV(cv=5, estimator=RandomForestClassifier(), n_iter=5,\n",
       "                   param_distributions={&#x27;max_depth&#x27;: [10, 20, 30, 40, 50, None],\n",
       "                                        &#x27;max_features&#x27;: [&#x27;sqrt&#x27;, &#x27;log2&#x27;],\n",
       "                                        &#x27;min_samples_leaf&#x27;: [1, 2, 4],\n",
       "                                        &#x27;min_samples_split&#x27;: [2, 5, 10],\n",
       "                                        &#x27;n_estimators&#x27;: [100, 200, 300, 400,\n",
       "                                                         500]},\n",
       "                   random_state=42, scoring=&#x27;f1&#x27;, verbose=2)</pre></div></div></div><div class=\"sk-parallel\"><div class=\"sk-parallel-item\"><div class=\"sk-item\"><div class=\"sk-label-container\"><div class=\"sk-label sk-toggleable\"><input class=\"sk-toggleable__control sk-hidden--visually\" id=\"sk-estimator-id-11\" type=\"checkbox\" ><label for=\"sk-estimator-id-11\" class=\"sk-toggleable__label sk-toggleable__label-arrow\">estimator: RandomForestClassifier</label><div class=\"sk-toggleable__content\"><pre>RandomForestClassifier()</pre></div></div></div><div class=\"sk-serial\"><div class=\"sk-item\"><div class=\"sk-estimator sk-toggleable\"><input class=\"sk-toggleable__control sk-hidden--visually\" id=\"sk-estimator-id-12\" type=\"checkbox\" ><label for=\"sk-estimator-id-12\" class=\"sk-toggleable__label sk-toggleable__label-arrow\">RandomForestClassifier</label><div class=\"sk-toggleable__content\"><pre>RandomForestClassifier()</pre></div></div></div></div></div></div></div></div></div></div>"
      ],
      "text/plain": [
       "RandomizedSearchCV(cv=5, estimator=RandomForestClassifier(), n_iter=5,\n",
       "                   param_distributions={'max_depth': [10, 20, 30, 40, 50, None],\n",
       "                                        'max_features': ['sqrt', 'log2'],\n",
       "                                        'min_samples_leaf': [1, 2, 4],\n",
       "                                        'min_samples_split': [2, 5, 10],\n",
       "                                        'n_estimators': [100, 200, 300, 400,\n",
       "                                                         500]},\n",
       "                   random_state=42, scoring='f1', verbose=2)"
      ]
     },
     "execution_count": 34,
     "metadata": {},
     "output_type": "execute_result"
    }
   ],
   "source": [
    "# Random forest fine-tunning\n",
    "\n",
    "forest_best=RandomForestClassifier()\n",
    "forest_param_dist = {\n",
    "    'n_estimators': [100, 200, 300, 400, 500],\n",
    "    'max_features': ['sqrt', 'log2'],\n",
    "    'max_depth': [10, 20, 30, 40, 50, None],\n",
    "    'min_samples_split': [2, 5, 10],\n",
    "    'min_samples_leaf': [1, 2, 4]\n",
    "}\n",
    "forest_randomized_search = RandomizedSearchCV(forest_best, forest_param_dist, n_iter=5, scoring='f1',\n",
    "                                           cv=5, verbose=2, random_state=42)\n",
    "forest_randomized_search.fit(X_train_prepared, y_train)"
   ]
  },
  {
   "cell_type": "code",
   "execution_count": 35,
   "id": "e80267f7",
   "metadata": {},
   "outputs": [],
   "source": [
    "# get the best estimators\n",
    "svm_best_estimator = svm_randomized_search.best_estimator_\n",
    "sgd_best_estimator = sgd_randomized_search.best_estimator_\n",
    "forest_best_estimator = forest_randomized_search.best_estimator_"
   ]
  },
  {
   "cell_type": "markdown",
   "id": "1b5b8e2e",
   "metadata": {},
   "source": [
    "#### Evaluation"
   ]
  },
  {
   "cell_type": "code",
   "execution_count": 36,
   "id": "7253a788",
   "metadata": {},
   "outputs": [
    {
     "name": "stdout",
     "output_type": "stream",
     "text": [
      "SVM:\n",
      "[[1320    0]\n",
      " [   0 1116]]\n",
      "precision: 1.0\n",
      "recall: 1.0\n",
      "f1-score: 1.0\n",
      "accuracy: 1.0\n",
      "\n",
      "SGD:\n",
      "[[1320    0]\n",
      " [   6 1110]]\n",
      "precision: 1.0\n",
      "recall: 0.9946236559139785\n",
      "f1-score: 0.9973045822102425\n",
      "accuracy: 0.9975369458128078\n",
      "\n",
      "Random forest:\n",
      "[[1320    0]\n",
      " [  10 1106]]\n",
      "precision: 1.0\n",
      "recall: 0.9910394265232975\n",
      "f1-score: 0.9954995499549956\n",
      "accuracy: 0.9958949096880131\n",
      "\n"
     ]
    }
   ],
   "source": [
    "# Evaluation of each fine tunned model on THE TRAINING SET\n",
    "best_clf = {\n",
    "    'SVM': svm_best_estimator,\n",
    "    'SGD': sgd_best_estimator,\n",
    "    'Random forest': forest_best_estimator\n",
    "}\n",
    "\n",
    "for clf_name, clf in best_clf.items():\n",
    "    y_pred = clf.predict(X_train_prepared)\n",
    "    conf = eval_confusion(y_pred, y_train)\n",
    "    print(\"{}:\".format(clf_name))\n",
    "    print(conf['matrix'])\n",
    "    print(\"precision: {}\".format(conf['precision']))\n",
    "    print(\"recall: {}\".format(conf['recall']))\n",
    "    print(\"f1-score: {}\".format(conf['f1']))\n",
    "    print(\"accuracy: {}\".format(accuracy_score(y_pred, y_train)))\n",
    "    print()"
   ]
  },
  {
   "cell_type": "code",
   "execution_count": 37,
   "id": "7613f20c",
   "metadata": {},
   "outputs": [
    {
     "name": "stdout",
     "output_type": "stream",
     "text": [
      "SVM:\n",
      "[[318  12]\n",
      " [ 14 266]]\n",
      "precision: 0.9568345323741008\n",
      "recall: 0.95\n",
      "f1-score: 0.953405017921147\n",
      "accuracy: 0.9573770491803278\n",
      "\n",
      "SGD:\n",
      "[[321   9]\n",
      " [ 14 266]]\n",
      "precision: 0.9672727272727273\n",
      "recall: 0.95\n",
      "f1-score: 0.9585585585585585\n",
      "accuracy: 0.9622950819672131\n",
      "\n",
      "Random forest:\n",
      "[[319  11]\n",
      " [ 10 270]]\n",
      "precision: 0.9608540925266904\n",
      "recall: 0.9642857142857143\n",
      "f1-score: 0.9625668449197862\n",
      "accuracy: 0.9655737704918033\n",
      "\n"
     ]
    }
   ],
   "source": [
    "# prepare the test dataset\n",
    "X_test_prepared = prepare_pipeline.transform(X_test)\n",
    "\n",
    "# evaluate each model on the TEST SET\n",
    "for clf_name, clf in best_clf.items():\n",
    "    y_pred = clf.predict(X_test_prepared)\n",
    "    conf = eval_confusion(y_pred, y_test)\n",
    "    print(\"{}:\".format(clf_name))\n",
    "    print(conf['matrix'])\n",
    "    print(\"precision: {}\".format(conf['precision']))\n",
    "    print(\"recall: {}\".format(conf['recall']))\n",
    "    print(\"f1-score: {}\".format(conf['f1']))\n",
    "    print(\"accuracy: {}\".format(accuracy_score(y_pred, y_test)))\n",
    "    print()"
   ]
  },
  {
   "cell_type": "markdown",
   "id": "3c5e71ea",
   "metadata": {},
   "source": [
    "## 5. Discussion"
   ]
  },
  {
   "cell_type": "markdown",
   "id": "184fda56",
   "metadata": {},
   "source": [
    "Based on the provided metrics, the SGD Classifier seems to be the best choice, followed closely by the Random Forest. Both models show good generalization from the training to the test set and maintain high scores across all evaluation metrics. The SVM, despite its perfect score on the training set, seems to overfit and performs less effectively on the test set.\n",
    "\n",
    "When making the final decision, consider the specific needs of your application. For instance:\n",
    "\n",
    "- If false positives are more costly, prioritize precision.\n",
    "- If false negatives are more critical, focus on recall.\n"
   ]
  },
  {
   "cell_type": "code",
   "execution_count": 40,
   "id": "559db8bf",
   "metadata": {},
   "outputs": [
    {
     "data": {
      "text/plain": [
       "['prepare_pipeline.joblib']"
      ]
     },
     "execution_count": 40,
     "metadata": {},
     "output_type": "execute_result"
    }
   ],
   "source": [
    "from joblib import dump\n",
    "\n",
    "dump(sgd_best_estimator, 'SGD_best.joblib')\n",
    "dump(forest_best_estimator, 'RandomForest_best.joblib')\n",
    "\n",
    "dump(prepare_pipeline, 'prepare_pipeline.joblib')"
   ]
  }
 ],
 "metadata": {
  "kernelspec": {
   "display_name": "Python 3 (ipykernel)",
   "language": "python",
   "name": "python3"
  },
  "language_info": {
   "codemirror_mode": {
    "name": "ipython",
    "version": 3
   },
   "file_extension": ".py",
   "mimetype": "text/x-python",
   "name": "python",
   "nbconvert_exporter": "python",
   "pygments_lexer": "ipython3",
   "version": "3.10.11"
  }
 },
 "nbformat": 4,
 "nbformat_minor": 5
}
